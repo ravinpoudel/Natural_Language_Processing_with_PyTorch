{
  "nbformat": 4,
  "nbformat_minor": 0,
  "metadata": {
    "colab": {
      "name": "03-01b.ipynb",
      "provenance": [],
      "include_colab_link": true
    },
    "kernelspec": {
      "name": "python3",
      "display_name": "Python 3"
    },
    "language_info": {
      "name": "python"
    },
    "accelerator": "GPU",
    "gpuClass": "standard"
  },
  "cells": [
    {
      "cell_type": "markdown",
      "metadata": {
        "id": "view-in-github",
        "colab_type": "text"
      },
      "source": [
        "<a href=\"https://colab.research.google.com/github/ravinpoudel/Natural_Language_Processing_with_PyTorch/blob/main/Exercise_Files/03-01b.ipynb\" target=\"_parent\"><img src=\"https://colab.research.google.com/assets/colab-badge.svg\" alt=\"Open In Colab\"/></a>"
      ]
    },
    {
      "cell_type": "markdown",
      "source": [
        "!pip install torchtext==0.10.0"
      ],
      "metadata": {
        "id": "Lwed0aKg1Jvy"
      }
    },
    {
      "cell_type": "code",
      "execution_count": 7,
      "metadata": {
        "id": "jZsFelMfohu_"
      },
      "outputs": [],
      "source": [
        "import torch\n",
        "from torchtext.legacy import  data, datasets\n",
        "import random"
      ]
    },
    {
      "cell_type": "code",
      "source": [
        "seed = 966\n",
        "torch.manual_seed(seed)\n",
        "\n",
        "device = torch.device('cuda' if torch.cuda.is_available() else 'cpu')\n",
        "print(device)"
      ],
      "metadata": {
        "id": "Htwa2BnOp7uy",
        "colab": {
          "base_uri": "https://localhost:8080/"
        },
        "outputId": "be6e528a-bfbd-4c9b-ba7f-b612fc652573"
      },
      "execution_count": 8,
      "outputs": [
        {
          "output_type": "stream",
          "name": "stdout",
          "text": [
            "cuda\n"
          ]
        }
      ]
    },
    {
      "cell_type": "markdown",
      "source": [
        "**Fields**\n",
        "\n",
        "[Check documentation](https://pytorch.org/text/_modules/torchtext/data/field.html)"
      ],
      "metadata": {
        "id": "IpsI5mzbiw_N"
      }
    },
    {
      "cell_type": "code",
      "source": [
        "# define fields\n",
        "\n",
        "TEXT = data.Field(tokenize='spacy', lower=True)\n",
        "LABEL=data.LabelField()\n"
      ],
      "metadata": {
        "id": "mkJfNKJWp-_a"
      },
      "execution_count": 13,
      "outputs": []
    },
    {
      "cell_type": "markdown",
      "source": [
        "**Text REtrieval Conference (TREC) Question Classification Dataset**\n",
        "\n",
        "*Data Examples and Six Categories:*\n",
        "\n",
        "| Text | Label | Category |\n",
        "| --- | --- | --- |\n",
        "|CNN is the abbreviation for what ?|ABBR| ABBREVIATION |\n",
        "| What is the date of Boxing Day ? | NUM |NUMERIC|\n",
        "|Who discovered electricity ?| HUM |HUMAN|\n",
        "|What 's the colored part of the eye called ?|ENTY|ENTITY|\n",
        "|Why do horseshoes bring luck ?|DESC|DESCRIPTION|\n",
        "|What is California 's capital ?|LOC|LOCATION|"
      ],
      "metadata": {
        "id": "1cA0GOYlXyn7"
      }
    },
    {
      "cell_type": "code",
      "source": [
        "train, test = datasets.TREC.splits(TEXT, LABEL)\n",
        "train, val = train.split(random_state=random.seed(seed))"
      ],
      "metadata": {
        "id": "WegTcNYsp_vQ",
        "colab": {
          "base_uri": "https://localhost:8080/"
        },
        "outputId": "316e948d-8aae-4538-e4c8-548ad1f9fc59"
      },
      "execution_count": 14,
      "outputs": [
        {
          "output_type": "stream",
          "name": "stdout",
          "text": [
            "downloading train_5500.label\n"
          ]
        },
        {
          "output_type": "stream",
          "name": "stderr",
          "text": [
            "train_5500.label: 100%|██████████| 336k/336k [00:00<00:00, 2.95MB/s]\n"
          ]
        },
        {
          "output_type": "stream",
          "name": "stdout",
          "text": [
            "downloading TREC_10.label\n"
          ]
        },
        {
          "output_type": "stream",
          "name": "stderr",
          "text": [
            "TREC_10.label: 100%|██████████| 23.4k/23.4k [00:00<00:00, 859kB/s]\n"
          ]
        }
      ]
    },
    {
      "cell_type": "code",
      "source": [
        "vars(train[-1])"
      ],
      "metadata": {
        "id": "X7f7bzP1qCY5",
        "colab": {
          "base_uri": "https://localhost:8080/"
        },
        "outputId": "56a71941-a49a-45df-f8aa-d28cf15f4350"
      },
      "execution_count": 15,
      "outputs": [
        {
          "output_type": "execute_result",
          "data": {
            "text/plain": [
              "{'text': ['how', 'do', 'you', 'say', '2', 'in', 'latin', '?'], 'label': 'ENTY'}"
            ]
          },
          "metadata": {},
          "execution_count": 15
        }
      ]
    },
    {
      "cell_type": "code",
      "source": [
        "# build vocab\n"
      ],
      "metadata": {
        "id": "-pbG4QBJqE4B"
      },
      "execution_count": null,
      "outputs": []
    },
    {
      "cell_type": "code",
      "source": [
        "print(LABEL.vocab.stoi)"
      ],
      "metadata": {
        "id": "MOJPaDk04Lsl",
        "colab": {
          "base_uri": "https://localhost:8080/"
        },
        "outputId": "4f4d8cee-3faa-42a7-9942-00e2094d3d6b"
      },
      "execution_count": null,
      "outputs": [
        {
          "output_type": "stream",
          "name": "stdout",
          "text": [
            "defaultdict(None, {'ENTY': 0, 'HUM': 1, 'DESC': 2, 'NUM': 3, 'LOC': 4, 'ABBR': 5})\n"
          ]
        }
      ]
    },
    {
      "cell_type": "code",
      "source": [
        "print(\"Vocabulary size of TEXT:\",len(TEXT.vocab.stoi))\n",
        "print(\"Vocabulary size of LABEL:\",len(LABEL.vocab.stoi))"
      ],
      "metadata": {
        "id": "rC6vaKQjqJBp",
        "colab": {
          "base_uri": "https://localhost:8080/"
        },
        "outputId": "117622a6-16a3-4f88-c601-91e7b79118de"
      },
      "execution_count": null,
      "outputs": [
        {
          "output_type": "stream",
          "name": "stdout",
          "text": [
            "Vocabulary size of TEXT: 2679\n",
            "Vocabulary size of LABEL: 6\n"
          ]
        }
      ]
    },
    {
      "cell_type": "code",
      "source": [
        "train_iterator, valid_iterator, test_iterator = data.BucketIterator.splits(\n",
        "    (train, val, test),\n",
        "    batch_size = 64,\n",
        "    sort_key=lambda x: len(x.text), \n",
        "    device=device\n",
        ")"
      ],
      "metadata": {
        "id": "hE20ZBrjqJkY"
      },
      "execution_count": null,
      "outputs": []
    },
    {
      "cell_type": "code",
      "source": [],
      "metadata": {
        "id": "srtp1aRnQrXW"
      },
      "execution_count": null,
      "outputs": []
    }
  ]
}